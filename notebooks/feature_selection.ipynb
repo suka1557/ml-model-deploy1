{
 "cells": [
  {
   "cell_type": "code",
   "execution_count": 1,
   "metadata": {},
   "outputs": [],
   "source": [
    "import os\n",
    "import pandas as pd\n",
    "from dotenv import load_dotenv\n",
    "import numpy as np\n",
    "import sys\n",
    "sys.path.append(os.path.abspath('../'))"
   ]
  },
  {
   "cell_type": "code",
   "execution_count": 2,
   "metadata": {},
   "outputs": [],
   "source": [
    "PROJECT_ROOT_PATH = os.path.abspath('../')"
   ]
  },
  {
   "cell_type": "code",
   "execution_count": 3,
   "metadata": {},
   "outputs": [
    {
     "data": {
      "text/plain": [
       "True"
      ]
     },
     "execution_count": 3,
     "metadata": {},
     "output_type": "execute_result"
    }
   ],
   "source": [
    "load_dotenv(os.path.join(os.path.abspath('../'), 'config.env'))"
   ]
  },
  {
   "cell_type": "code",
   "execution_count": 4,
   "metadata": {},
   "outputs": [],
   "source": [
    "from src.data_processing.data_loader import DataLoader\n",
    "from src.feature_engineering.feature_scaler import ScaleInputs"
   ]
  },
  {
   "cell_type": "code",
   "execution_count": 5,
   "metadata": {},
   "outputs": [],
   "source": [
    "data_reader = (DataLoader(file_name=os.getenv(\"IMAGE_DATA_FILE\"), project_root=PROJECT_ROOT_PATH))\n",
    "image_data = data_reader.read_data()\n",
    "image_data, target = data_reader.extract_input_and_target(image_data)\n",
    "\n",
    "#scale images\n",
    "image_data = ScaleInputs().scale_input(image_data)"
   ]
  },
  {
   "cell_type": "code",
   "execution_count": 6,
   "metadata": {},
   "outputs": [],
   "source": [
    "import numpy as np\n",
    "from sklearn.decomposition import PCA"
   ]
  },
  {
   "cell_type": "code",
   "execution_count": 7,
   "metadata": {},
   "outputs": [
    {
     "data": {
      "text/plain": [
       "(42000, 20)"
      ]
     },
     "execution_count": 7,
     "metadata": {},
     "output_type": "execute_result"
    }
   ],
   "source": [
    "pca = PCA(n_components=20)  # Set the number of components you want to keep\n",
    "principal_components = pca.fit_transform(image_data)\n",
    "principal_components.shape"
   ]
  },
  {
   "cell_type": "code",
   "execution_count": 8,
   "metadata": {},
   "outputs": [
    {
     "data": {
      "text/plain": [
       "array([0.09748938, 0.07160266, 0.06145903, 0.05379302, 0.04894262,\n",
       "       0.04303214, 0.03277051, 0.02892103, 0.02766902, 0.02348871,\n",
       "       0.02099325, 0.02059001, 0.01702548, 0.01692783, 0.01581118,\n",
       "       0.0148322 , 0.01319623, 0.01282631, 0.01187066, 0.01152398])"
      ]
     },
     "execution_count": 8,
     "metadata": {},
     "output_type": "execute_result"
    }
   ],
   "source": [
    "pca.explained_variance_ratio_"
   ]
  },
  {
   "cell_type": "code",
   "execution_count": 11,
   "metadata": {},
   "outputs": [
    {
     "data": {
      "text/html": [
       "<div>\n",
       "<style scoped>\n",
       "    .dataframe tbody tr th:only-of-type {\n",
       "        vertical-align: middle;\n",
       "    }\n",
       "\n",
       "    .dataframe tbody tr th {\n",
       "        vertical-align: top;\n",
       "    }\n",
       "\n",
       "    .dataframe thead th {\n",
       "        text-align: right;\n",
       "    }\n",
       "</style>\n",
       "<table border=\"1\" class=\"dataframe\">\n",
       "  <thead>\n",
       "    <tr style=\"text-align: right;\">\n",
       "      <th></th>\n",
       "      <th>component_0</th>\n",
       "      <th>component_1</th>\n",
       "      <th>component_2</th>\n",
       "      <th>component_3</th>\n",
       "      <th>component_4</th>\n",
       "      <th>component_5</th>\n",
       "      <th>component_6</th>\n",
       "      <th>component_7</th>\n",
       "      <th>component_8</th>\n",
       "      <th>component_9</th>\n",
       "      <th>component_10</th>\n",
       "      <th>component_11</th>\n",
       "      <th>component_12</th>\n",
       "      <th>component_13</th>\n",
       "      <th>component_14</th>\n",
       "      <th>component_15</th>\n",
       "      <th>component_16</th>\n",
       "      <th>component_17</th>\n",
       "      <th>component_18</th>\n",
       "      <th>component_19</th>\n",
       "    </tr>\n",
       "  </thead>\n",
       "  <tbody>\n",
       "    <tr>\n",
       "      <th>0</th>\n",
       "      <td>-2.594493</td>\n",
       "      <td>-2.742397</td>\n",
       "      <td>0.718753</td>\n",
       "      <td>0.472986</td>\n",
       "      <td>-0.317967</td>\n",
       "      <td>1.919458</td>\n",
       "      <td>-2.680273</td>\n",
       "      <td>0.335555</td>\n",
       "      <td>1.366840</td>\n",
       "      <td>0.795963</td>\n",
       "      <td>-1.429674</td>\n",
       "      <td>0.083766</td>\n",
       "      <td>1.587250</td>\n",
       "      <td>-0.378338</td>\n",
       "      <td>0.244716</td>\n",
       "      <td>-0.342991</td>\n",
       "      <td>0.059883</td>\n",
       "      <td>1.111638</td>\n",
       "      <td>0.111005</td>\n",
       "      <td>0.794886</td>\n",
       "    </tr>\n",
       "    <tr>\n",
       "      <th>1</th>\n",
       "      <td>6.672360</td>\n",
       "      <td>-1.413928</td>\n",
       "      <td>-1.967865</td>\n",
       "      <td>1.315386</td>\n",
       "      <td>-1.734819</td>\n",
       "      <td>2.895704</td>\n",
       "      <td>2.564213</td>\n",
       "      <td>-0.692554</td>\n",
       "      <td>-0.029515</td>\n",
       "      <td>0.266050</td>\n",
       "      <td>0.134266</td>\n",
       "      <td>0.182514</td>\n",
       "      <td>-0.274063</td>\n",
       "      <td>-1.343160</td>\n",
       "      <td>1.482295</td>\n",
       "      <td>-0.019838</td>\n",
       "      <td>1.245061</td>\n",
       "      <td>0.340956</td>\n",
       "      <td>-0.396143</td>\n",
       "      <td>-0.677011</td>\n",
       "    </tr>\n",
       "    <tr>\n",
       "      <th>2</th>\n",
       "      <td>-3.478017</td>\n",
       "      <td>-1.152023</td>\n",
       "      <td>0.263354</td>\n",
       "      <td>0.306917</td>\n",
       "      <td>-1.857710</td>\n",
       "      <td>-1.268787</td>\n",
       "      <td>1.716855</td>\n",
       "      <td>-1.197580</td>\n",
       "      <td>-0.765858</td>\n",
       "      <td>-0.100474</td>\n",
       "      <td>1.441557</td>\n",
       "      <td>0.988476</td>\n",
       "      <td>0.213420</td>\n",
       "      <td>-0.230690</td>\n",
       "      <td>0.638002</td>\n",
       "      <td>-0.635878</td>\n",
       "      <td>-0.387750</td>\n",
       "      <td>-0.604187</td>\n",
       "      <td>0.256346</td>\n",
       "      <td>-0.716061</td>\n",
       "    </tr>\n",
       "    <tr>\n",
       "      <th>3</th>\n",
       "      <td>-0.650022</td>\n",
       "      <td>1.177187</td>\n",
       "      <td>-0.251551</td>\n",
       "      <td>2.979241</td>\n",
       "      <td>-1.669977</td>\n",
       "      <td>0.617214</td>\n",
       "      <td>-1.192525</td>\n",
       "      <td>1.084004</td>\n",
       "      <td>-0.179850</td>\n",
       "      <td>-1.158694</td>\n",
       "      <td>-0.010922</td>\n",
       "      <td>-1.006691</td>\n",
       "      <td>-0.344982</td>\n",
       "      <td>-0.685776</td>\n",
       "      <td>0.159332</td>\n",
       "      <td>-0.350689</td>\n",
       "      <td>0.203324</td>\n",
       "      <td>0.777913</td>\n",
       "      <td>0.024480</td>\n",
       "      <td>1.141008</td>\n",
       "    </tr>\n",
       "    <tr>\n",
       "      <th>4</th>\n",
       "      <td>7.543960</td>\n",
       "      <td>-1.761385</td>\n",
       "      <td>-2.151423</td>\n",
       "      <td>0.739432</td>\n",
       "      <td>-2.555829</td>\n",
       "      <td>3.882604</td>\n",
       "      <td>2.213747</td>\n",
       "      <td>-1.003608</td>\n",
       "      <td>0.489870</td>\n",
       "      <td>0.696345</td>\n",
       "      <td>-0.076422</td>\n",
       "      <td>1.308451</td>\n",
       "      <td>-0.835319</td>\n",
       "      <td>-1.391861</td>\n",
       "      <td>0.364945</td>\n",
       "      <td>0.106865</td>\n",
       "      <td>0.917314</td>\n",
       "      <td>-0.209221</td>\n",
       "      <td>-0.213459</td>\n",
       "      <td>-0.990248</td>\n",
       "    </tr>\n",
       "  </tbody>\n",
       "</table>\n",
       "</div>"
      ],
      "text/plain": [
       "   component_0  component_1  component_2  component_3  component_4   \n",
       "0    -2.594493    -2.742397     0.718753     0.472986    -0.317967  \\\n",
       "1     6.672360    -1.413928    -1.967865     1.315386    -1.734819   \n",
       "2    -3.478017    -1.152023     0.263354     0.306917    -1.857710   \n",
       "3    -0.650022     1.177187    -0.251551     2.979241    -1.669977   \n",
       "4     7.543960    -1.761385    -2.151423     0.739432    -2.555829   \n",
       "\n",
       "   component_5  component_6  component_7  component_8  component_9   \n",
       "0     1.919458    -2.680273     0.335555     1.366840     0.795963  \\\n",
       "1     2.895704     2.564213    -0.692554    -0.029515     0.266050   \n",
       "2    -1.268787     1.716855    -1.197580    -0.765858    -0.100474   \n",
       "3     0.617214    -1.192525     1.084004    -0.179850    -1.158694   \n",
       "4     3.882604     2.213747    -1.003608     0.489870     0.696345   \n",
       "\n",
       "   component_10  component_11  component_12  component_13  component_14   \n",
       "0     -1.429674      0.083766      1.587250     -0.378338      0.244716  \\\n",
       "1      0.134266      0.182514     -0.274063     -1.343160      1.482295   \n",
       "2      1.441557      0.988476      0.213420     -0.230690      0.638002   \n",
       "3     -0.010922     -1.006691     -0.344982     -0.685776      0.159332   \n",
       "4     -0.076422      1.308451     -0.835319     -1.391861      0.364945   \n",
       "\n",
       "   component_15  component_16  component_17  component_18  component_19  \n",
       "0     -0.342991      0.059883      1.111638      0.111005      0.794886  \n",
       "1     -0.019838      1.245061      0.340956     -0.396143     -0.677011  \n",
       "2     -0.635878     -0.387750     -0.604187      0.256346     -0.716061  \n",
       "3     -0.350689      0.203324      0.777913      0.024480      1.141008  \n",
       "4      0.106865      0.917314     -0.209221     -0.213459     -0.990248  "
      ]
     },
     "execution_count": 11,
     "metadata": {},
     "output_type": "execute_result"
    }
   ],
   "source": [
    "components_df = pd.DataFrame(principal_components)\n",
    "components_df.columns = [\"component_\"+str(i) for i in range(20)]\n",
    "components_df.head()"
   ]
  },
  {
   "cell_type": "code",
   "execution_count": 14,
   "metadata": {},
   "outputs": [],
   "source": [
    "from src.feature_selection.feature_selection_pca import get_selected_components_df"
   ]
  },
  {
   "cell_type": "code",
   "execution_count": 15,
   "metadata": {},
   "outputs": [
    {
     "data": {
      "text/plain": [
       "(42000, 50)"
      ]
     },
     "execution_count": 15,
     "metadata": {},
     "output_type": "execute_result"
    }
   ],
   "source": [
    "components_df = get_selected_components_df(image_data, no_components=50)\n",
    "components_df.shape"
   ]
  },
  {
   "cell_type": "code",
   "execution_count": 17,
   "metadata": {},
   "outputs": [
    {
     "name": "stdout",
     "output_type": "stream",
     "text": [
      "Help on function get_selected_components_df in module src.feature_selection.feature_selection_pca:\n",
      "\n",
      "get_selected_components_df(input_df: pandas.core.frame.DataFrame, no_components: int = 20) -> pandas.core.frame.DataFrame\n",
      "    applies PCA on given dataframe and returns top n components as dataframe\n",
      "    \n",
      "    Arguments:\n",
      "        input_df: Pandas dataframe on which to apply PCA decompositions\n",
      "        no_components: no of components to be selected \n",
      "    \n",
      "    Returns:\n",
      "        dataframe consisting of top n components as columns of the dataframe\n",
      "\n"
     ]
    }
   ],
   "source": [
    "help(get_selected_components_df)"
   ]
  },
  {
   "cell_type": "code",
   "execution_count": null,
   "metadata": {},
   "outputs": [],
   "source": []
  }
 ],
 "metadata": {
  "kernelspec": {
   "display_name": "dep1_env",
   "language": "python",
   "name": "python3"
  },
  "language_info": {
   "codemirror_mode": {
    "name": "ipython",
    "version": 3
   },
   "file_extension": ".py",
   "mimetype": "text/x-python",
   "name": "python",
   "nbconvert_exporter": "python",
   "pygments_lexer": "ipython3",
   "version": "3.8.0"
  }
 },
 "nbformat": 4,
 "nbformat_minor": 2
}
